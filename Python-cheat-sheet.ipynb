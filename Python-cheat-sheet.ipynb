{
 "cells": [
  {
   "cell_type": "markdown",
   "metadata": {
    "collapsed": true
   },
   "source": [
    "# Python cheat sheet\n"
   ]
  },
  {
   "cell_type": "markdown",
   "metadata": {},
   "source": [
    "## Table of contents: <a class=\"anchor\" id=\"toc\"></a>\n",
    "* [1. Data structures](#structures)\n",
    "    * [1.1 Strings](#strings)\n",
    "    * [1.2 Tuples](#tuples)\n",
    "    * [1.3 Lists](#lists)\n",
    "    * [1.4 Dictionaries](#dictionaries)\n",
    "* [2. Other datatypes](#datatypes)\n",
    "    * [2.1 Numbers](#numbers)\n",
    "    * [2.2 Booleans](#booleans)\n",
    "* [3. Operators](#operators)\n",
    "    * [3.1 Arithmetic](#arithmetic)\n",
    "    * [3.2 Comparison](#comparison)\n",
    "    * [3.3 Assignment](#assignment)\n",
    "    * [3.4 Bitwise](#bitwise)\n",
    "    * [3.5 Membership](#membership)\n",
    "    * [3.6 Identity](#identitycomp)\n",
    "    * [3.7 Operator precedence](#operatorprecedence)\n",
    "* [4. Loops](#loops)\n",
    "    * [4.1 For](#for)\n",
    "    * [4.2 While](#while)\n",
    "* [5. Data input](#datainput)\n",
    "* [6. Object attributes](#attributes)\n",
    "    * [6.1 Documentation](#documentation)\n",
    "    * [6.2 Checking callability](#checking)\n",
    "    * [6.3 Base classes](#baseclasses)\n",
    "    * [6.4 Identity](#identityattr)\n",
    "* [7. File management](#filemanagement)\n",
    "    * [7.1 Modes](#modes)\n",
    "    * [7.2 Reading](#reading)\n",
    "    * [7.3 Writing](#writing)\n",
    "    * [7.4 CSV](#csv)\n",
    "* [8. Functions](#functions)\n",
    "* [9. Classes](#classes)\n",
    "* [10. Errors and exceptions](#errorsexceptions)\n",
    "* [11. Built-in methods](#builtin)\n",
    "    * [11.1 Dir](#dir)\n",
    "    * [11.2 Type](#type)\n",
    "* [12. Modules and packages](#modules)\n",
    "    * [12.1 Regular Expressions](#regex)\n",
    "    * [12.2 System](#system)\n",
    "    * [12.3 Date & Time](#datetime)\n",
    "    * [12.4 Locale](#locale)"
   ]
  },
  {
   "cell_type": "markdown",
   "metadata": {},
   "source": [
    "## 1. Data structures <a class=\"anchor\" id=\"structures\"></a>\n",
    "[Back to Table of contents](#toc)"
   ]
  },
  {
   "cell_type": "markdown",
   "metadata": {},
   "source": [
    "### 1.1 Strings <a class=\"anchor\" id=\"strings\"></a>\n",
    "[Back to Table of contents](#toc)\n",
    "\n",
    "More about formatting: https://pyformat.info/"
   ]
  },
  {
   "cell_type": "code",
   "execution_count": 31,
   "metadata": {
    "scrolled": false
   },
   "outputs": [
    {
     "name": "stdout",
     "output_type": "stream",
     "text": [
      "hello world world \n",
      "hello world\n",
      "some very long text\n",
      "In a multiline string\n",
      "  \n",
      "  you can simply write\n",
      "    and it will respect \n",
      "indentations and new lines.\n"
     ]
    }
   ],
   "source": [
    "print(\"hello \" + \"world \" * 2)\n",
    "print(\"hello\", \"world\")\n",
    "print(\"some very \" + \\\n",
    "        \"long text\")  # It doesn't matter the number of indentations\n",
    "print(\"\"\"In a multiline string\n",
    "  \n",
    "  you can simply write\n",
    "    and it will respect \\nindentations and new lines.\"\"\")"
   ]
  },
  {
   "cell_type": "code",
   "execution_count": 7,
   "metadata": {},
   "outputs": [
    {
     "name": "stdout",
     "output_type": "stream",
     "text": [
      "how are you\n",
      "how are you\n",
      "       test\n",
      "some       sentence\n",
      "test_______\n",
      "***test***\n",
      "some se\n",
      "_____some se______\n",
      "hello world\n"
     ]
    }
   ],
   "source": [
    "print(\"{1} {0} {2}\".format(\"are\", \"how\", \"you\"))\n",
    "\n",
    "word1 = \"how\"; word2 = \"are\"; word3 = \"you\"\n",
    "print(f\"{word1} {word2} {word3}\")\n",
    "\n",
    "print(\"{:>11}\".format(\"test\"))\n",
    "print(\"{:11}\".format(\"some\") + \"sentence\")\n",
    "print(\"{:_<11}\".format(\"test\"))\n",
    "print(\"{:*^10}\".format(\"test\"))\n",
    "\n",
    "print(\"{:.7}\".format(\"some sentence\"))\n",
    "print(\"{:_^18.7}\".format(\"some sentence\"))\n",
    "\n",
    "var1='hello'; var2='world'\n",
    "print(f'{var1} {var2}')  # Python 3.6"
   ]
  },
  {
   "cell_type": "code",
   "execution_count": 119,
   "metadata": {},
   "outputs": [
    {
     "name": "stdout",
     "output_type": "stream",
     "text": [
      "hello world\n",
      "hello world\n",
      "hello world\n"
     ]
    }
   ],
   "source": [
    "sentence = {'first': 'hello', 'last': 'world'}\n",
    "print('{first} {last}'.format(**sentence))  # Named placeholders\n",
    "print('{s[first]} {s[last]}'.format(s=sentence))  # Getting item from dictionary\n",
    "\n",
    "print('{first} {last}'.format(first='hello', last='world'))"
   ]
  },
  {
   "cell_type": "code",
   "execution_count": 2,
   "metadata": {
    "scrolled": false
   },
   "outputs": [
    {
     "name": "stdout",
     "output_type": "stream",
     "text": [
      "!\"#$%&'()*+,-./:;<=>?@[\\]^_`{|}~\n",
      "aka = also known as\n",
      "user@mail.com\n"
     ]
    }
   ],
   "source": [
    "from string import punctuation\n",
    "print(punctuation)\n",
    "\n",
    "str1 = '!!= =aka = also known as(~ ==\"!'\n",
    "print(str1.strip(punctuation + ' '))  # Also lstrip and rstrip\n",
    "\n",
    "print('user(at)mail.com'.replace('(at)', '@'))"
   ]
  },
  {
   "cell_type": "markdown",
   "metadata": {},
   "source": [
    "Dealing with quotes:"
   ]
  },
  {
   "cell_type": "code",
   "execution_count": 22,
   "metadata": {
    "scrolled": true
   },
   "outputs": [
    {
     "name": "stdout",
     "output_type": "stream",
     "text": [
      "She said \"I want this\"\n",
      "She said \"I want this\"\n",
      "She said \"I want this\" \n",
      "She said \"Don't do that\"\n",
      "She said \"Don't do that\"\n"
     ]
    }
   ],
   "source": [
    "print('She said \"I want this\"')\n",
    "print(\"She said \\\"I want this\\\"\")\n",
    "print(\"\"\"She said \"I want this\" \"\"\")  # Better with multiple quoting\n",
    "print(\"She said \\\"Don't do that\\\"\")\n",
    "print('She said \"Don\\'t do that\"')"
   ]
  },
  {
   "cell_type": "code",
   "execution_count": 93,
   "metadata": {
    "scrolled": true
   },
   "outputs": [
    {
     "name": "stdout",
     "output_type": "stream",
     "text": [
      "5.6\n",
      "True\n",
      "5\n"
     ]
    }
   ],
   "source": [
    "print(str(5.6))\n",
    "print(str(True))\n",
    "print(len(\"hello\"))"
   ]
  },
  {
   "cell_type": "code",
   "execution_count": 11,
   "metadata": {
    "scrolled": true
   },
   "outputs": [
    {
     "name": "stdout",
     "output_type": "stream",
     "text": [
      "some sentence with uppercase and lowercase.\n",
      "SOME SENTENCE WITH UPPERCASE AND LOWERCASE.\n",
      "sOME SENTENCE WITH uppercase AND LOWERCASE.\n",
      "Some sentence with uppercase and lowercase.\n"
     ]
    }
   ],
   "source": [
    "string = \"Some sentence with UPPERCASE and lowercase.\"\n",
    "print(string.lower())\n",
    "print(string.upper())\n",
    "print(string.swapcase())\n",
    "print(string.capitalize())"
   ]
  },
  {
   "cell_type": "code",
   "execution_count": 42,
   "metadata": {
    "scrolled": true
   },
   "outputs": [
    {
     "name": "stdout",
     "output_type": "stream",
     "text": [
      "7\n",
      "2\n",
      "some gexg\n"
     ]
    }
   ],
   "source": [
    "print(\"some text\".find(\"x\"))\n",
    "print(\"some text\".count(\"e\"))\n",
    "print(\"some text\".replace(\"t\", \"g\"))"
   ]
  },
  {
   "cell_type": "markdown",
   "metadata": {},
   "source": [
    "### 1.2 Tuples <a class=\"anchor\" id=\"tuples\"></a>\n",
    "[Back to Table of contents](#toc)"
   ]
  },
  {
   "cell_type": "code",
   "execution_count": 26,
   "metadata": {},
   "outputs": [
    {
     "name": "stdout",
     "output_type": "stream",
     "text": [
      "('physics', 'chemistry', 1997, 2000)\n",
      "5\n"
     ]
    }
   ],
   "source": [
    "tup1 = ('physics', 'chemistry', 1997, 2000)\n",
    "tup2 = (1, 2, 3, 4, 5, )\n",
    "tup3 = \"a\", \"b\", \"c\", \"d\"\n",
    "print(tup1)\n",
    "print(tup2[4])  # [5] will return \"index out of range\""
   ]
  },
  {
   "cell_type": "markdown",
   "metadata": {},
   "source": [
    "### 1.3 Lists  <a class=\"anchor\" id=\"lists\"></a>\n",
    "[Back to Table of contents](#toc)"
   ]
  },
  {
   "cell_type": "code",
   "execution_count": 106,
   "metadata": {},
   "outputs": [
    {
     "name": "stdout",
     "output_type": "stream",
     "text": [
      "[2, 4, 7, 2, 4, 7]\n"
     ]
    }
   ],
   "source": [
    "list1 = [2, 4, 7]\n",
    "print(list1 * 2)"
   ]
  },
  {
   "cell_type": "code",
   "execution_count": 11,
   "metadata": {
    "scrolled": true
   },
   "outputs": [
    {
     "name": "stdout",
     "output_type": "stream",
     "text": [
      "6\n",
      "[1, 3, 5, 7, 24, 64]\n",
      "64 5\n"
     ]
    }
   ],
   "source": [
    "list2 = [7, 1, 3, 5, 24, 64]\n",
    "print(len(list2))\n",
    "print(sorted(list2))\n",
    "print(list2[-1], list2[-3])"
   ]
  },
  {
   "cell_type": "code",
   "execution_count": 17,
   "metadata": {},
   "outputs": [
    {
     "name": "stdout",
     "output_type": "stream",
     "text": [
      "['hello', 374, 'blue', 53, ('tree', 'cat')]\n",
      "['hello', 374, 'blue', 53]\n",
      "[374, 'blue', 53]\n",
      "[374, 53]\n"
     ]
    }
   ],
   "source": [
    "list3 = [\"hello\", 374, \"blue\", 53]\n",
    "list3.append((\"tree\", \"cat\"))\n",
    "print(list3)\n",
    "list3.pop()\n",
    "print(list3)\n",
    "list3.remove(\"hello\")\n",
    "print(list3)\n",
    "del list3[1]\n",
    "print(list3)"
   ]
  },
  {
   "cell_type": "code",
   "execution_count": 23,
   "metadata": {},
   "outputs": [
    {
     "name": "stdout",
     "output_type": "stream",
     "text": [
      "0\n",
      "['Bill', 'John', 'Melanie', 'Susan']\n"
     ]
    }
   ],
   "source": [
    "list4 = [\"Melanie\", \"John\", \"Bill\", \"Susan\"]\n",
    "print(list4.index(\"Melanie\"))\n",
    "list4.sort()\n",
    "print(list4)"
   ]
  },
  {
   "cell_type": "markdown",
   "metadata": {},
   "source": [
    "### 1.4 Dictionaries  <a class=\"anchor\" id=\"dictionaries\"></a>\n",
    "[Back to Table of contents](#toc)"
   ]
  },
  {
   "cell_type": "code",
   "execution_count": 11,
   "metadata": {},
   "outputs": [
    {
     "name": "stdout",
     "output_type": "stream",
     "text": [
      "dic1 -> {'Key': 'Value', ('K', 'E', 'Y'): 5}\n",
      "5\n",
      "dic2 -> {0: 10, 1: 11, 2: 12, 3: 13, 4: 14, 5: 15}\n",
      "dic1 keys: dict_keys(['Key', ('K', 'E', 'Y')])\n",
      "dic1 values: dict_values(['Value', 5])\n",
      "dic2 keys: dict_keys([0, 1, 2, 3, 4, 5])\n",
      "dic2 values: dict_values([10, 11, 12, 13, 14, 15])\n",
      "The index doesnt exist: 'key_3'\n"
     ]
    }
   ],
   "source": [
    "dic1 = {'Key': 'Value', ('K', 'E', 'Y'): 5}\n",
    "dic2 = {x: x + 10 for x in range(6))}\n",
    "\n",
    "print('dic1 ->', dic1)\n",
    "print(dic1[('K', 'E', 'Y')])\n",
    "print('dic2 ->', dic2)\n",
    "\n",
    "print('dic1 keys:', dic1.keys())\n",
    "print('dic1 values:', dic1.values())\n",
    "\n",
    "print('dic2 keys:', dic2.keys())\n",
    "print('dic2 values:', dic2.values())\n",
    "\n",
    "try:\n",
    "    print(dic1['key_3'])\n",
    "except Exception as e:\n",
    "    print('The index doesn''t exist:', e)"
   ]
  },
  {
   "cell_type": "code",
   "execution_count": 8,
   "metadata": {},
   "outputs": [
    {
     "name": "stdout",
     "output_type": "stream",
     "text": [
      "{0: 10, 1: 11, 2: 12, 3: 13}\n",
      "{0: 10, 2: 12, 3: 13, 8: 'Val for 8'}\n",
      "{}\n"
     ]
    }
   ],
   "source": [
    "dic = {x: x + 10 for x in range(4)}; print(dic)\n",
    "dic[8] = 'Val for 8'\n",
    "del dic[1]; print(dic)\n",
    "dic.clear(); print(dic)"
   ]
  },
  {
   "cell_type": "code",
   "execution_count": 1,
   "metadata": {},
   "outputs": [
    {
     "name": "stdout",
     "output_type": "stream",
     "text": [
      "25\n"
     ]
    }
   ],
   "source": [
    "dic = {\"name\": \"Susan\", \"age\": 25, \"hobby\": \"tennis\"}\n",
    "print(dic[\"age\"])\n",
    "# print(dic[0]) # KeyError: 0 -> There is no key with 0"
   ]
  },
  {
   "cell_type": "markdown",
   "metadata": {},
   "source": [
    "## 2. Other datatypes <a class=\"anchor\" id=\"datatypes\"></a>\n",
    "[Back to Table of contents](#toc)"
   ]
  },
  {
   "cell_type": "markdown",
   "metadata": {},
   "source": [
    "### 2.1 Numbers  <a class=\"anchor\" id=\"numbers\"></a>\n",
    "[Back to Table of contents](#toc)"
   ]
  },
  {
   "cell_type": "code",
   "execution_count": 10,
   "metadata": {},
   "outputs": [
    {
     "name": "stdout",
     "output_type": "stream",
     "text": [
      "21\n",
      "21\n",
      "21\n",
      "5.7\n",
      "5.7\n",
      "I have 4 apples\n",
      "I have   4 apples\n",
      "I have 004 apples\n",
      "I have 4.000000 apples\n",
      "I have 4.00 apples\n"
     ]
    }
   ],
   "source": [
    "print(int(\"21\"))\n",
    "print(\"%d\" % 21)\n",
    "print('{:d}'.format(21))\n",
    "\n",
    "print(float(\"5.7\"))\n",
    "print(\"%.1f\" % 5.7)\n",
    "\n",
    "# Old style\n",
    "print(\"I have %d apples\" % 4)\n",
    "print(\"I have %3d apples\" % 4)\n",
    "print(\"I have %03d apples\" % 4)\n",
    "print(\"I have %f apples\" % 4)\n",
    "print(\"I have %.2f apples\" % 4)"
   ]
  },
  {
   "cell_type": "code",
   "execution_count": 159,
   "metadata": {},
   "outputs": [
    {
     "name": "stdout",
     "output_type": "stream",
     "text": [
      "I have 4 apples, 2 pears, 2 bananas and 6.300 gallons of water\n",
      "The number is    +5400\n",
      "The number is 00005400\n",
      "The number is  5400\n",
      "The number is -5400\n",
      "Result:     34.233\n",
      "Result:   34.2\n"
     ]
    }
   ],
   "source": [
    "# New style\n",
    "print(\"I have {0:d} apples, {1:d} pears, {1:d} bananas and {2:.3f} gallons of water\".format(4, 2, 6.30))\n",
    "print(\"The number is {:+8d}\".format(5400))\n",
    "print(\"The number is {:08d}\".format(5400, 39))  # If omitted, it takes 0 as an argument.\n",
    "\n",
    "print(\"The number is {: d}\".format(5400))\n",
    "print(\"The number is {: d}\".format(-5400))\n",
    "\n",
    "width=10; precision=5\n",
    "print(f'Result: {34.23333:{width}.{precision}}')  # Python 3.6\n",
    "print(f'Result: {34.23333:6.3}') # Python 3.6"
   ]
  },
  {
   "cell_type": "code",
   "execution_count": 126,
   "metadata": {
    "scrolled": true
   },
   "outputs": [
    {
     "name": "stdout",
     "output_type": "stream",
     "text": [
      "2.23606797749979\n",
      "25 -24\n",
      "24 -25\n",
      "24 -24\n",
      "33 33.48\n"
     ]
    }
   ],
   "source": [
    "import math as m\n",
    "print(m.sqrt(5))\n",
    "print(m.ceil(24.65), m.ceil(-24.65))\n",
    "print(m.floor(24.65), m.floor(-24.65))\n",
    "print(m.trunc(24.65), m.trunc(-24.65))\n",
    "print(round(33.479), round(33.479, 2))"
   ]
  },
  {
   "cell_type": "code",
   "execution_count": 126,
   "metadata": {
    "scrolled": false
   },
   "outputs": [
    {
     "name": "stdout",
     "output_type": "stream",
     "text": [
      "3.141592653589793\n",
      "3.141592653589793\n",
      "MATH\n",
      " ['__doc__', '__loader__', '__name__', '__package__', '__spec__', 'acos', 'acosh', 'asin', 'asinh', 'atan', 'atan2', 'atanh', 'ceil', 'copysign', 'cos', 'cosh', 'degrees', 'e', 'erf', 'erfc', 'exp', 'expm1', 'fabs', 'factorial', 'floor', 'fmod', 'frexp', 'fsum', 'gamma', 'gcd', 'hypot', 'inf', 'isclose', 'isfinite', 'isinf', 'isnan', 'ldexp', 'lgamma', 'log', 'log10', 'log1p', 'log2', 'modf', 'nan', 'pi', 'pow', 'radians', 'sin', 'sinh', 'sqrt', 'tan', 'tanh', 'tau', 'trunc']\n",
      "CMATH\n",
      " ['__doc__', '__loader__', '__name__', '__package__', '__spec__', 'acos', 'acosh', 'asin', 'asinh', 'atan', 'atanh', 'cos', 'cosh', 'e', 'exp', 'inf', 'infj', 'isclose', 'isfinite', 'isinf', 'isnan', 'log', 'log10', 'nan', 'nanj', 'phase', 'pi', 'polar', 'rect', 'sin', 'sinh', 'sqrt', 'tan', 'tanh', 'tau']\n"
     ]
    }
   ],
   "source": [
    "import cmath as cm  # Math functions for complex numbers\n",
    "print(m.pi)\n",
    "print(cm.pi)\n",
    "\n",
    "print('MATH\\n', dir(m))  # Valid attributes for the object\n",
    "print('CMATH\\n', dir(cm))"
   ]
  },
  {
   "cell_type": "code",
   "execution_count": 230,
   "metadata": {
    "scrolled": true
   },
   "outputs": [
    {
     "name": "stdout",
     "output_type": "stream",
     "text": [
      "['BPF', 'LOG4', 'NV_MAGICCONST', 'RECIP_BPF', 'Random', 'SG_MAGICCONST', 'SystemRandom', 'TWOPI', '_BuiltinMethodType', '_MethodType', '_Sequence', '_Set', '__all__', '__builtins__', '__cached__', '__doc__', '__file__', '__loader__', '__name__', '__package__', '__spec__', '_acos', '_bisect', '_ceil', '_cos', '_e', '_exp', '_inst', '_itertools', '_log', '_pi', '_random', '_sha512', '_sin', '_sqrt', '_test', '_test_generator', '_urandom', '_warn', 'betavariate', 'choice', 'choices', 'expovariate', 'gammavariate', 'gauss', 'getrandbits', 'getstate', 'lognormvariate', 'normalvariate', 'paretovariate', 'randint', 'random', 'randrange', 'sample', 'seed', 'setstate', 'shuffle', 'triangular', 'uniform', 'vonmisesvariate', 'weibullvariate']\n",
      "12\n",
      "5152\n",
      "[24, 75, 61]\n"
     ]
    }
   ],
   "source": [
    "import random as rnd\n",
    "print(dir(rnd))\n",
    "print(m.trunc(rnd.random() * 100))  # Random returns a value within a range [0.0, 1.0]\n",
    "print(rnd.randint(5000, 5999))\n",
    "print(rnd.sample([1, 3, 5, 9, 75, 24, 61], 3))"
   ]
  },
  {
   "cell_type": "markdown",
   "metadata": {},
   "source": [
    "### 2.2 Booleans <a class=\"anchor\" id=\"booleans\"></a>\n",
    "[Back to Table of contents](#toc)"
   ]
  },
  {
   "cell_type": "code",
   "execution_count": 23,
   "metadata": {
    "scrolled": true
   },
   "outputs": [
    {
     "name": "stdout",
     "output_type": "stream",
     "text": [
      "False\n",
      "bool(x) -> bool\n",
      "\n",
      "Returns True when the argument x is true, False otherwise.\n",
      "The builtins True and False are the only two instances of the class bool.\n",
      "The class bool is a subclass of the class int, and cannot be subclassed.\n"
     ]
    }
   ],
   "source": [
    "print(True == False)\n",
    "print(True.__doc__)  # Checking documentation"
   ]
  },
  {
   "cell_type": "markdown",
   "metadata": {},
   "source": [
    "## 3. Operators  <a class=\"anchor\" id=\"operators\"></a>\n",
    "[Back to Table of contents](#toc)"
   ]
  },
  {
   "cell_type": "markdown",
   "metadata": {},
   "source": [
    "### 3.1 Arithmetic  <a class=\"anchor\" id=\"arithmetic\"></a>\n",
    "[Back to Table of contents](#toc)\n",
    "\n",
    "- <b>Modulus:</b>"
   ]
  },
  {
   "cell_type": "code",
   "execution_count": 38,
   "metadata": {},
   "outputs": [
    {
     "name": "stdout",
     "output_type": "stream",
     "text": [
      "3\n",
      "3.0\n"
     ]
    }
   ],
   "source": [
    "print(23 % 5)\n",
    "print(23.0 % 5.0)"
   ]
  },
  {
   "cell_type": "markdown",
   "metadata": {},
   "source": [
    "- <b>Exponent (power):</b>"
   ]
  },
  {
   "cell_type": "code",
   "execution_count": 39,
   "metadata": {},
   "outputs": [
    {
     "name": "stdout",
     "output_type": "stream",
     "text": [
      "8\n"
     ]
    }
   ],
   "source": [
    "print(2 ** 3)"
   ]
  },
  {
   "cell_type": "markdown",
   "metadata": {},
   "source": [
    "- <b>Floor division:</b>"
   ]
  },
  {
   "cell_type": "code",
   "execution_count": 41,
   "metadata": {},
   "outputs": [
    {
     "name": "stdout",
     "output_type": "stream",
     "text": [
      "4\n",
      "4.0\n"
     ]
    }
   ],
   "source": [
    "print(23 // 5)\n",
    "print(23.0 // 5.0)"
   ]
  },
  {
   "cell_type": "markdown",
   "metadata": {},
   "source": [
    "### 3.2 Comparison <a class=\"anchor\" id=\"comparison\"></a>\n",
    "[Back to Table of contents](#toc)"
   ]
  },
  {
   "cell_type": "code",
   "execution_count": 44,
   "metadata": {},
   "outputs": [
    {
     "data": {
      "text/plain": [
       "False"
      ]
     },
     "execution_count": 44,
     "metadata": {},
     "output_type": "execute_result"
    }
   ],
   "source": [
    "True == 'True'"
   ]
  },
  {
   "cell_type": "code",
   "execution_count": 25,
   "metadata": {},
   "outputs": [
    {
     "data": {
      "text/plain": [
       "True"
      ]
     },
     "execution_count": 25,
     "metadata": {},
     "output_type": "execute_result"
    }
   ],
   "source": [
    "type(2) != type(2.0)"
   ]
  },
  {
   "cell_type": "code",
   "execution_count": 24,
   "metadata": {},
   "outputs": [
    {
     "data": {
      "text/plain": [
       "True"
      ]
     },
     "execution_count": 24,
     "metadata": {},
     "output_type": "execute_result"
    }
   ],
   "source": [
    "'hello' > 'hell no'"
   ]
  },
  {
   "cell_type": "code",
   "execution_count": 28,
   "metadata": {},
   "outputs": [
    {
     "data": {
      "text/plain": [
       "False"
      ]
     },
     "execution_count": 28,
     "metadata": {},
     "output_type": "execute_result"
    }
   ],
   "source": [
    "5 == 4"
   ]
  },
  {
   "cell_type": "code",
   "execution_count": 32,
   "metadata": {},
   "outputs": [
    {
     "data": {
      "text/plain": [
       "True"
      ]
     },
     "execution_count": 32,
     "metadata": {},
     "output_type": "execute_result"
    }
   ],
   "source": [
    "5 is 5 and 5 == 5"
   ]
  },
  {
   "cell_type": "code",
   "execution_count": 34,
   "metadata": {},
   "outputs": [
    {
     "data": {
      "text/plain": [
       "True"
      ]
     },
     "execution_count": 34,
     "metadata": {},
     "output_type": "execute_result"
    }
   ],
   "source": [
    "5 is not 4"
   ]
  },
  {
   "cell_type": "code",
   "execution_count": 38,
   "metadata": {
    "scrolled": true
   },
   "outputs": [
    {
     "data": {
      "text/plain": [
       "True"
      ]
     },
     "execution_count": 38,
     "metadata": {},
     "output_type": "execute_result"
    }
   ],
   "source": [
    "\"This\" is 'This'"
   ]
  },
  {
   "cell_type": "code",
   "execution_count": 99,
   "metadata": {
    "scrolled": true
   },
   "outputs": [
    {
     "name": "stdout",
     "output_type": "stream",
     "text": [
      "True\n",
      "False\n"
     ]
    }
   ],
   "source": [
    "# Equality VS Identity\n",
    "a = 5050\n",
    "b = 5050\n",
    "print(a == b)  # Comparing values\n",
    "print(a is b)  # Comparing position in memory (if are the same objects)"
   ]
  },
  {
   "cell_type": "markdown",
   "metadata": {},
   "source": [
    "### 3.3 Assignment <a class=\"anchor\" id=\"assignment\"></a>\n",
    "[Back to Table of contents](#toc)"
   ]
  },
  {
   "cell_type": "code",
   "execution_count": 18,
   "metadata": {
    "scrolled": true
   },
   "outputs": [
    {
     "name": "stdout",
     "output_type": "stream",
     "text": [
      "7\n",
      "4\n",
      "16\n",
      "8.0\n",
      "2.0\n",
      "16.0\n",
      "1.0\n"
     ]
    }
   ],
   "source": [
    "a = 2\n",
    "a += 5; print(a)\n",
    "a -= 3; print(a)\n",
    "a *= 4; print(a)\n",
    "a /= 2; print(a)\n",
    "a //= 3; print(a)\n",
    "a **= 4; print(a)\n",
    "a %= 5; print(a)"
   ]
  },
  {
   "cell_type": "code",
   "execution_count": 147,
   "metadata": {
    "scrolled": true
   },
   "outputs": [
    {
     "name": "stdout",
     "output_type": "stream",
     "text": [
      "[1, 2, 3] 2176800029448\n",
      "[1, 2, 3] 2176799750344\n",
      "[1, 'B', 3]\n",
      "[1, 2, 3]\n"
     ]
    }
   ],
   "source": [
    "m = [1, 2, 3]\n",
    "n = [1, 2, 3]\n",
    "print(m, id(m))\n",
    "print(n, id(n))\n",
    "\n",
    "m[1] = \"B\"\n",
    "print(m)\n",
    "print(n)"
   ]
  },
  {
   "cell_type": "code",
   "execution_count": 148,
   "metadata": {},
   "outputs": [
    {
     "name": "stdout",
     "output_type": "stream",
     "text": [
      "[1, 2, 3] 2176799985736\n",
      "[1, 2, 3] 2176799985736\n",
      "[1, 'B', 3]\n",
      "[1, 'B', 3]\n"
     ]
    }
   ],
   "source": [
    "m = n = [1, 2, 3]\n",
    "print(m, id(m))\n",
    "print(n, id(n))\n",
    "\n",
    "m[1] = \"B\"\n",
    "print(m)\n",
    "print(n)"
   ]
  },
  {
   "cell_type": "markdown",
   "metadata": {},
   "source": [
    "### 3.4 Bitwise <a class=\"anchor\" id=\"bitwise\"></a>\n",
    "[Back to Table of contents](#toc)\n",
    "\n",
    "- <b>Binary left (<<) or right (>>) shift:</b>"
   ]
  },
  {
   "cell_type": "code",
   "execution_count": 7,
   "metadata": {},
   "outputs": [
    {
     "name": "stdout",
     "output_type": "stream",
     "text": [
      "240\n"
     ]
    }
   ],
   "source": [
    "print(60 << 2)"
   ]
  },
  {
   "cell_type": "markdown",
   "metadata": {},
   "source": [
    "<code>60 = 0011 1100</code><br>\n",
    "After bitwise operation (shifting left 2 positions): <br>\n",
    "<code>     1111 0000 = 16 + 32 + 64 + 128 = 240 </code>\n"
   ]
  },
  {
   "cell_type": "code",
   "execution_count": 9,
   "metadata": {},
   "outputs": [
    {
     "name": "stdout",
     "output_type": "stream",
     "text": [
      "1\n"
     ]
    }
   ],
   "source": [
    "print(32 >> 5)"
   ]
  },
  {
   "cell_type": "markdown",
   "metadata": {},
   "source": [
    "<code>32 = 0010 0000</code><br>\n",
    "After bitwise operation (shifting right 5 positions): <br>\n",
    "<code>     0000 0001 = 1</code>"
   ]
  },
  {
   "cell_type": "markdown",
   "metadata": {},
   "source": [
    "- <b>Binary AND:</b>"
   ]
  },
  {
   "cell_type": "code",
   "execution_count": 14,
   "metadata": {},
   "outputs": [
    {
     "name": "stdout",
     "output_type": "stream",
     "text": [
      "8\n"
     ]
    }
   ],
   "source": [
    "print(60 & 10)"
   ]
  },
  {
   "cell_type": "markdown",
   "metadata": {},
   "source": [
    "<code>60 = 0011 1100</code><br>\n",
    "<code>10 = 0000 1010</code><br>\n",
    "After bitwise operation (binary AND):<br>\n",
    "<code>     0000 1000 = 8</code>\n"
   ]
  },
  {
   "cell_type": "markdown",
   "metadata": {},
   "source": [
    "- <b>Binary OR:</b>"
   ]
  },
  {
   "cell_type": "code",
   "execution_count": 15,
   "metadata": {},
   "outputs": [
    {
     "name": "stdout",
     "output_type": "stream",
     "text": [
      "62\n"
     ]
    }
   ],
   "source": [
    "print(60 | 10)"
   ]
  },
  {
   "cell_type": "markdown",
   "metadata": {},
   "source": [
    "<code>60 = 0011 1100</code><br>\n",
    "<code>10 = 0000 1010</code><br>\n",
    "After bitwise operation (binary OR):<br>\n",
    "<code>     0011 1110 = 62</code>\n"
   ]
  },
  {
   "cell_type": "markdown",
   "metadata": {},
   "source": [
    "- <b>Binary XOR (Exclusive OR):</b>"
   ]
  },
  {
   "cell_type": "code",
   "execution_count": 16,
   "metadata": {},
   "outputs": [
    {
     "name": "stdout",
     "output_type": "stream",
     "text": [
      "54\n"
     ]
    }
   ],
   "source": [
    "print(60 ^ 10)"
   ]
  },
  {
   "cell_type": "markdown",
   "metadata": {},
   "source": [
    "<code>60 = 0011 1100</code><br>\n",
    "<code>10 = 0000 1010</code><br>\n",
    "After bitwise operation (binary XOR):<br>\n",
    "<code>     0011 0110 = 54</code>\n"
   ]
  },
  {
   "cell_type": "markdown",
   "metadata": {},
   "source": [
    "### 3.5 Membership <a class=\"anchor\" id=\"membership\"></a>\n",
    "[Back to Table of contents](#toc)\n",
    "\n",
    "Python’s membership operators test for membership in a sequence, such as strings, lists, or tuples.  \n",
    "There are two membership operators, as explained below:\n",
    "\n",
    "`in`  \n",
    "Evaluates to true if it finds a variable in the specified sequence and false otherwise.\t\n",
    "`x in y`: Here `in` results in a 1 if `x` is a member of sequence `y`.\n",
    "\n",
    "`not in`  \n",
    "Evaluates to true if it does not finds a variable in the specified sequence and false otherwise.\t\n",
    "`x not in y`: Here `not in` results in a 1 if `x` is not a member of sequence `y`."
   ]
  },
  {
   "cell_type": "markdown",
   "metadata": {},
   "source": [
    "### 3.6 Identity <a class=\"anchor\" id=\"identitycomp\"></a>\n",
    "[Back to Table of contents](#toc)\n",
    "\n",
    "Identity operators compare the memory locations of two objects.  \n",
    "There are two Identity operators, as explained below:\n",
    "\n",
    "`is`  \n",
    "Evaluates to true if the variables on either side of the operator point to the same object and false otherwise.  \n",
    "`x is y`: Here `is` results in 1 if `id(x)` equals `id(y)`.\n",
    "\n",
    "`is not`  \n",
    "Evaluates to false if the variables on either side of the operator point to the same object and true otherwise.  \n",
    "`x is not y`: Here `is not` results in 1 if `id(x)` is not equal to `id(y)`."
   ]
  },
  {
   "cell_type": "code",
   "execution_count": 81,
   "metadata": {},
   "outputs": [
    {
     "name": "stdout",
     "output_type": "stream",
     "text": [
      "2176799080888 2176799080776\n",
      "False\n",
      "False\n",
      "\n",
      "2176799080888 2176799080888\n",
      "True\n",
      "True\n",
      "\n",
      "2176799080888 2176799080888\n",
      "True\n",
      "True\n",
      "\n",
      "False\n",
      "2176798920432\n",
      "2176798920592\n"
     ]
    }
   ],
   "source": [
    "a = \"Hello\"\n",
    "b = \"World\"\n",
    "c = a\n",
    "d = \"Hello\"\n",
    "\n",
    "print(id(a), id(b))\n",
    "print(a is b)\n",
    "print(id(a) == id(b), end=\"\\n\\n\")\n",
    "\n",
    "print(id(a), id(c))\n",
    "print(a is c)\n",
    "print(id(a) == id(c), end=\"\\n\\n\")\n",
    "\n",
    "print(id(a), id(d))\n",
    "print(a is d)\n",
    "print(id(a) == id(d), end=\"\\n\\n\")\n",
    "\n",
    "# Wrongly done: it compares memory position of ID method execution\n",
    "print(id(a) is id(c))\n",
    "print(id(id(a)))\n",
    "print(id(id(c)))"
   ]
  },
  {
   "cell_type": "markdown",
   "metadata": {},
   "source": [
    "### 3.7 Operator precedence <a class=\"anchor\" id=\"operatorprecedence\"></a>\n",
    "[Back to Table of contents](#toc)"
   ]
  },
  {
   "cell_type": "raw",
   "metadata": {},
   "source": [
    "01) **\n",
    "02) ~ + - (Complement, unary plus +@ and minus -@)\n",
    "03) * / % //\n",
    "04) + -\n",
    "05) >> <<\n",
    "06) &\n",
    "07) ^ |\n",
    "08) <= < > >=\n",
    "09) <> == !=\n",
    "10) = %= /= //= -= += *= **=\n",
    "11) is is not\n",
    "12) in not in\n",
    "13) not or and"
   ]
  },
  {
   "cell_type": "markdown",
   "metadata": {},
   "source": [
    "## 4. Loops <a class=\"anchor\" id=\"loops\"></a>\n",
    "[Back to Table of contents](#toc)"
   ]
  },
  {
   "cell_type": "markdown",
   "metadata": {},
   "source": [
    "### 4.1 For <a class=\"anchor\" id=\"for\"></a>\n",
    "[Back to Table of contents](#toc)"
   ]
  },
  {
   "cell_type": "code",
   "execution_count": 4,
   "metadata": {},
   "outputs": [
    {
     "name": "stdout",
     "output_type": "stream",
     "text": [
      "1\n",
      "3\n",
      "5\n",
      "7\n",
      "9\n"
     ]
    }
   ],
   "source": [
    "for step in range(1,10,2):\n",
    "    print(step)"
   ]
  },
  {
   "cell_type": "markdown",
   "metadata": {},
   "source": [
    "### 4.2 While <a class=\"anchor\" id=\"while\"></a>\n",
    "[Back to Table of contents](#toc)"
   ]
  },
  {
   "cell_type": "code",
   "execution_count": 5,
   "metadata": {
    "scrolled": true
   },
   "outputs": [
    {
     "name": "stdout",
     "output_type": "stream",
     "text": [
      "0\n",
      "1\n",
      "2\n",
      "3\n",
      "4\n"
     ]
    }
   ],
   "source": [
    "var = 0\n",
    "while var < 5:\n",
    "    print(var)\n",
    "    var += 1"
   ]
  },
  {
   "cell_type": "markdown",
   "metadata": {},
   "source": [
    "## 5. Data input <a class=\"anchor\" id=\"datainput\"></a>\n",
    "[Back to Table of contents](#toc)"
   ]
  },
  {
   "cell_type": "code",
   "execution_count": 13,
   "metadata": {
    "scrolled": true
   },
   "outputs": [
    {
     "name": "stdout",
     "output_type": "stream",
     "text": [
      "How old are you: 20\n",
      "20\n"
     ]
    }
   ],
   "source": [
    "age = int(input(\"How old are you: \"))\n",
    "print(age)"
   ]
  },
  {
   "cell_type": "markdown",
   "metadata": {},
   "source": [
    "# 6. Object attributes <a class=\"anchor\" id=\"attributes\"></a>\n",
    "[Back to Table of contents](#toc)"
   ]
  },
  {
   "cell_type": "markdown",
   "metadata": {},
   "source": [
    "### 6.1 Documentation <a class=\"anchor\" id=\"documentation\"></a>\n",
    "[Back to Table of contents](#toc)"
   ]
  },
  {
   "cell_type": "code",
   "execution_count": 19,
   "metadata": {},
   "outputs": [
    {
     "name": "stdout",
     "output_type": "stream",
     "text": [
      "bool(x) -> bool\n",
      "\n",
      "Returns True when the argument x is true, False otherwise.\n",
      "The builtins True and False are the only two instances of the class bool.\n",
      "The class bool is a subclass of the class int, and cannot be subclassed.\n"
     ]
    }
   ],
   "source": [
    "print(True.__doc__)"
   ]
  },
  {
   "cell_type": "markdown",
   "metadata": {},
   "source": [
    "### 6.2 Checking callability <a class=\"anchor\" id=\"checking\"></a>\n",
    "[Back to Table of contents](#toc)"
   ]
  },
  {
   "cell_type": "code",
   "execution_count": 58,
   "metadata": {
    "scrolled": true
   },
   "outputs": [
    {
     "name": "stdout",
     "output_type": "stream",
     "text": [
      "<built-in method upper of str object at 0x00000246A49ED3E8>\n",
      "True\n",
      "WORD\n",
      "False\n"
     ]
    }
   ],
   "source": [
    "print(\"word\".upper)\n",
    "print(callable(\"word\".upper))\n",
    "print(\"word\".upper())\n",
    "print(callable(\"word\".upper()))"
   ]
  },
  {
   "cell_type": "code",
   "execution_count": 31,
   "metadata": {
    "scrolled": true
   },
   "outputs": [
    {
     "name": "stdout",
     "output_type": "stream",
     "text": [
      "<class 'int'>\n",
      "True\n",
      "3\n"
     ]
    }
   ],
   "source": [
    "print(int)\n",
    "print(callable(int))\n",
    "print(int(3.56))"
   ]
  },
  {
   "cell_type": "markdown",
   "metadata": {},
   "source": [
    "### 6.3 Base classes <a class=\"anchor\" id=\"baseclasses\"></a>\n",
    "[Back to Table of contents](#toc)"
   ]
  },
  {
   "cell_type": "code",
   "execution_count": 24,
   "metadata": {},
   "outputs": [
    {
     "name": "stdout",
     "output_type": "stream",
     "text": [
      "(<class 'str'>, <class 'object'>)\n",
      "(<class 'bool'>, <class 'int'>, <class 'object'>)\n"
     ]
    }
   ],
   "source": [
    "import inspect\n",
    "print(inspect.getmro(type(\"hello\")))\n",
    "print(inspect.getmro(type(True)))"
   ]
  },
  {
   "cell_type": "markdown",
   "metadata": {},
   "source": [
    "### 6.4 Identity <a class=\"anchor\" id=\"identityattr\"></a>\n",
    "[Back to Table of contents](#toc)"
   ]
  },
  {
   "cell_type": "code",
   "execution_count": 25,
   "metadata": {},
   "outputs": [
    {
     "name": "stdout",
     "output_type": "stream",
     "text": [
      "22274320\n"
     ]
    }
   ],
   "source": [
    "a = 4534\n",
    "print(id(a))"
   ]
  },
  {
   "cell_type": "code",
   "execution_count": 144,
   "metadata": {},
   "outputs": [
    {
     "name": "stdout",
     "output_type": "stream",
     "text": [
      "2101817704368\n",
      "2101817786608\n"
     ]
    }
   ],
   "source": [
    "b = 5432\n",
    "print(id(a))\n",
    "print(id(b))  # Will change for each execution because it´s being assigned"
   ]
  },
  {
   "cell_type": "markdown",
   "metadata": {},
   "source": [
    "## 7. File management <a class=\"anchor\" id=\"filemanagement\"></a>\n",
    "[Back to Table of contents](#toc)"
   ]
  },
  {
   "cell_type": "markdown",
   "metadata": {},
   "source": [
    "### 7.1 Modes <a class=\"anchor\" id=\"modes\"></a>\n",
    "[Back to Table of contents](#toc)"
   ]
  },
  {
   "cell_type": "raw",
   "metadata": {},
   "source": [
    "'r'\topen for reading (default)\n",
    "'w'\topen for writing, truncating the file first\n",
    "'x'\topen for exclusive creation, failing if the file already exists\n",
    "'a'\topen for writing, appending to the end of the file if it exists\n",
    "'b'\tbinary mode\n",
    "'t'\ttext mode (default)\n",
    "'+'\topen a disk file for updating (reading and writing)"
   ]
  },
  {
   "cell_type": "markdown",
   "metadata": {},
   "source": [
    "### 7.2 Reading <a class=\"anchor\" id=\"reading\"></a>\n",
    "[Back to Table of contents](#toc)"
   ]
  },
  {
   "cell_type": "code",
   "execution_count": 7,
   "metadata": {},
   "outputs": [
    {
     "name": "stdout",
     "output_type": "stream",
     "text": [
      "<_io.TextIOWrapper name='data/some_note.txt' mode='r' encoding='cp1252'>\n",
      "File \"data/some_note.txt\" opened for read.\n",
      "File mode: r\n",
      "cp1252\n",
      "line 1 bl\n",
      "9\n",
      "Moved position to 5.\n",
      "5\n",
      "First readline -> 1 blablabla\n",
      "Second readline -> line 2 blablabla\n",
      "Closed: False\n",
      "Closed: True\n"
     ]
    }
   ],
   "source": [
    "# file = open(r'C:\\some_folder\\some_note.txt', 'r')  # Absolute path, raw mode\n",
    "file = open('data/some_note.txt', 'r')  # Relative path\n",
    "print(file)\n",
    "print(r'File \"{}\" opened for read.'.format(file.name))\n",
    "print(\"File mode: \" + file.mode)\n",
    "print(file.encoding)\n",
    "\n",
    "print(file.read(9))  # Reads 9 bytes; the position remains there for following reads\n",
    "print(file.tell())\n",
    "file.seek(5); print(\"Moved position to 5.\")\n",
    "print(file.tell())\n",
    "\n",
    "print(\"First readline ->\", file.readline(), end=\"\")  # Reads one line (including \\n)\n",
    "print(\"Second readline ->\", file.readline(), end=\"\")\n",
    "\n",
    "print(\"Closed: \" + str(file.closed))\n",
    "file.close()\n",
    "print(\"Closed: \" + str(file.closed))"
   ]
  },
  {
   "cell_type": "markdown",
   "metadata": {},
   "source": [
    "### 7.3 Writing <a class=\"anchor\" id=\"writing\"></a>\n",
    "[Back to Table of contents](#toc)"
   ]
  },
  {
   "cell_type": "code",
   "execution_count": 8,
   "metadata": {},
   "outputs": [
    {
     "name": "stdout",
     "output_type": "stream",
     "text": [
      "File \"data/some_note.txt\" opened for append.\n",
      "File mode: a+\n",
      "91\n",
      "Printing file:\n",
      "<starts here>\n",
      "\n",
      "<ends here>\n",
      "Printing file:\n",
      "<starts here>\n",
      "line 1 blablabla\n",
      "line 2 blablabla\n",
      "line 3 blablabla\n",
      "last line\n",
      "\n",
      "Adding new line via Jupyter.\n",
      "<ends here>\n"
     ]
    }
   ],
   "source": [
    "file = open('data/some_note.txt', 'a+')\n",
    "print(r'File \"{}\" opened for append.'.format(file.name))\n",
    "print(\"File mode: \" + file.mode)\n",
    "\n",
    "file.write(\"\\nAdding new line via Jupyter.\")\n",
    "print(file.tell())\n",
    "print(\"\"\"Printing file:\n",
    "<starts here>\n",
    "{}\n",
    "<ends here>\"\"\".format(file.read()))\n",
    "\n",
    "file.seek(0)\n",
    "print('Printing file:\\n<starts here>\\n{}\\n<ends here>'.format(file.read()))\n",
    "\n",
    "file.close()"
   ]
  },
  {
   "cell_type": "markdown",
   "metadata": {},
   "source": [
    "#### 7.4 CSV <a class=\"anchor\" id=\"csv\"></a>\n",
    "[Back to Table of contents](#toc)"
   ]
  },
  {
   "cell_type": "code",
   "execution_count": 9,
   "metadata": {},
   "outputs": [
    {
     "name": "stdout",
     "output_type": "stream",
     "text": [
      "<_io.TextIOWrapper name='data/some_file.csv' mode='r' encoding='cp1252'>\n",
      "<_csv.reader object at 0x001C81B0>\n",
      "L1F1;L1F2;L1F3;L1F4\n",
      "L2F1;L2F2;L2F3;L2F4\n",
      "L3F1;L3F2;L3F3;L3F4\n",
      "L4F1;L4F2;L4F3;L4F4\n"
     ]
    }
   ],
   "source": [
    "import csv\n",
    "\n",
    "with open(\"data/some_file.csv\", \"r\") as csvFile:\n",
    "    print(csvFile)\n",
    "    dataCSV = csv.reader(csvFile)\n",
    "    print(dataCSV)\n",
    "    for line in dataCSV:  # Each row is a list\n",
    "        #print(line)\n",
    "        print(\";\".join(line))\n",
    "        #for word in line:\n",
    "        #    print(word)"
   ]
  },
  {
   "cell_type": "markdown",
   "metadata": {},
   "source": [
    "## 8. Functions <a class=\"anchor\" id=\"functions\"></a>\n",
    "[Back to Table of contents](#toc)"
   ]
  },
  {
   "cell_type": "markdown",
   "metadata": {},
   "source": [
    "Default values and selective arguments:"
   ]
  },
  {
   "cell_type": "code",
   "execution_count": 116,
   "metadata": {},
   "outputs": [
    {
     "name": "stdout",
     "output_type": "stream",
     "text": [
      "My name is Johan and my age is unknown.\n",
      "My name is Johan and my age is 82.\n",
      "My name is unknown and my age is 23.\n"
     ]
    }
   ],
   "source": [
    "def say_my_name(name = \"unknown\", age= \"unknown\"):\n",
    "    print('My name is', name, 'and my age is', str(age) + '.')\n",
    "\n",
    "say_my_name(\"Johan\")\n",
    "say_my_name(\"Johan\", 82)\n",
    "say_my_name(age = 23)"
   ]
  },
  {
   "cell_type": "markdown",
   "metadata": {},
   "source": [
    "## 9. Classes <a class=\"anchor\" id=\"classes\"></a>\n",
    "[Back to Table of contents](#toc)\n",
    "\n",
    "More info: https://docs.python.org/3/tutorial/classes.html"
   ]
  },
  {
   "cell_type": "code",
   "execution_count": 9,
   "metadata": {},
   "outputs": [
    {
     "name": "stdout",
     "output_type": "stream",
     "text": [
      "2 0\n",
      "'Complex' object has no attribute '__real'\n"
     ]
    }
   ],
   "source": [
    "class Complex:\n",
    "    'this class simulates complex numbers'\n",
    "    def __init__(self, real = 0, imag = 0):\n",
    "        if (type(real) not in (int, float)) or type(imag) not in (int,float):\n",
    "            raise Exception('Args are not numbers!')\n",
    "        self.__real = real\n",
    "        self.__imag = imag\n",
    "    def GetReal(self):\n",
    "        return self.__real\n",
    "    def GetImag(self):\n",
    "        return self.__imag\n",
    "    def SetReal(self, val):\n",
    "        self.__real = val\n",
    "    def SetImag(self, val):\n",
    "        self.imag = val\n",
    "\n",
    "c = Complex()\n",
    "c.SetImag(1)\n",
    "c.SetReal(2)\n",
    "print(c.GetReal(), c.GetImag())\n",
    "\n",
    "try:\n",
    "    #c = Complex((1, 2, 3), [1, 2, 3])\n",
    "    c.__real\n",
    "except Exception as e: # 'Complex' object has no attribute '__real'\n",
    "    print(e)"
   ]
  },
  {
   "cell_type": "code",
   "execution_count": 5,
   "metadata": {},
   "outputs": [
    {
     "name": "stdout",
     "output_type": "stream",
     "text": [
      "<__main__.Student object at 0x05BA3FD0>\n",
      "<__main__.Student object at 0x04CA3C50>\n",
      "1 1 1\n",
      "name 's1' is not defined\n",
      "<__main__.Student object at 0x04CA3C50>\n",
      "0\n"
     ]
    }
   ],
   "source": [
    "class Student(object):\n",
    "    'Student'\n",
    "    number_of_students = 0\n",
    "    \n",
    "    def __init__(self, name, index):\n",
    "        self.name = name\n",
    "        self.index = index\n",
    "        Student.number_of_students += 1\n",
    "        \n",
    "    def __del__(self):\n",
    "        Student.number_of_students -= 1\n",
    "\n",
    "s1 = Student('Martinez', 132)\n",
    "s2 = Student('Laura', 156)\n",
    "\n",
    "print(s1)\n",
    "print(s2)\n",
    "print(Student.number_of_students, s1.number_of_students, s2.number_of_students)\n",
    "\n",
    "del s1 # Without __del__ function, the variable will not decrease its value\n",
    "try: print(s1) \n",
    "except Exception as e: print(e)\n",
    "print(s2)\n",
    "print(Student.number_of_students)"
   ]
  },
  {
   "cell_type": "code",
   "execution_count": 17,
   "metadata": {},
   "outputs": [
    {
     "name": "stdout",
     "output_type": "stream",
     "text": [
      "<class '__main__.Car'>\n",
      "<__main__.Car object at 0x0000025C8813E9E8>\n",
      "<class 'str'>\n",
      "Toyota\n",
      "Toyota\n",
      "<__main__.Car object at 0x0000025C8813EAC8>\n",
      "Ford\n"
     ]
    }
   ],
   "source": [
    "class Car:\n",
    "    def __init__(self, brand):\n",
    "        self.brand = brand\n",
    "    def get_brand(self):\n",
    "        print(self.brand)\n",
    "        \n",
    "x = Car(\"Toyota\")\n",
    "print(type(x))\n",
    "print(x)\n",
    "print(type(x.brand))\n",
    "print(x.brand)\n",
    "x.get_brand()\n",
    "\n",
    "y = Car(\"Ford\")\n",
    "print(y)\n",
    "print(y.brand)"
   ]
  },
  {
   "cell_type": "markdown",
   "metadata": {},
   "source": [
    "## 10. Errors and exceptions <a class=\"anchor\" id=\"errorsexceptions\"></a>\n",
    "[Back to Table of contents](#toc)"
   ]
  },
  {
   "cell_type": "markdown",
   "metadata": {},
   "source": [
    "### Try, Except and Finally"
   ]
  },
  {
   "cell_type": "code",
   "execution_count": 16,
   "metadata": {},
   "outputs": [
    {
     "name": "stdout",
     "output_type": "stream",
     "text": [
      "A number cannot be divided by 0.\n",
      "End of try.\n"
     ]
    }
   ],
   "source": [
    "import sys\n",
    "\n",
    "a, b = 3, 0  # ZeroDivisionError exception\n",
    "#a, b = 3, \"red\"  # TypeError exception\n",
    "\n",
    "try:\n",
    "    print(\"Result of dividing %s by %s:\" % (a, b), a / b)\n",
    "except ZeroDivisionError:\n",
    "    print(\"A number cannot be divided by 0.\")\n",
    "except:\n",
    "    print(\"Unexpected exception -> \", sys.exc_info())\n",
    "finally:\n",
    "    print(\"End of try.\")"
   ]
  },
  {
   "cell_type": "markdown",
   "metadata": {},
   "source": [
    "List of exceptions: https://docs.python.org/3/c-api/exceptions.html#standard-exceptions"
   ]
  },
  {
   "cell_type": "markdown",
   "metadata": {},
   "source": [
    "## 11. Built-in methods <a class=\"anchor\" id=\"builtin\"></a>\n",
    "[Back to Table of contents](#toc)"
   ]
  },
  {
   "cell_type": "markdown",
   "metadata": {},
   "source": [
    "### 11.1 Dir <a class=\"anchor\" id=\"dir\"></a>\n",
    "[Back to Table of contents](#toc)\n",
    "\n",
    "Without arguments, return the list of names in the current local scope. With an argument, attempt to return a list of valid attributes for that object."
   ]
  },
  {
   "cell_type": "code",
   "execution_count": 118,
   "metadata": {},
   "outputs": [
    {
     "name": "stdout",
     "output_type": "stream",
     "text": [
      "['In', 'Out', '_', '_101', '_107', '_109', '_82', '__', '___', '__builtin__', '__builtins__', '__doc__', '__loader__', '__name__', '__package__', '__spec__', '_dh', '_i', '_i1', '_i10', '_i100', '_i101', '_i102', '_i103', '_i104', '_i105', '_i106', '_i107', '_i108', '_i109', '_i11', '_i110', '_i111', '_i112', '_i113', '_i114', '_i115', '_i116', '_i117', '_i118', '_i12', '_i13', '_i14', '_i15', '_i16', '_i17', '_i18', '_i19', '_i2', '_i20', '_i21', '_i22', '_i23', '_i24', '_i25', '_i26', '_i27', '_i28', '_i29', '_i3', '_i30', '_i31', '_i32', '_i33', '_i34', '_i35', '_i36', '_i37', '_i38', '_i39', '_i4', '_i40', '_i41', '_i42', '_i43', '_i44', '_i45', '_i46', '_i47', '_i48', '_i49', '_i5', '_i50', '_i51', '_i52', '_i53', '_i54', '_i55', '_i56', '_i57', '_i58', '_i59', '_i6', '_i60', '_i61', '_i62', '_i63', '_i64', '_i65', '_i66', '_i67', '_i68', '_i69', '_i7', '_i70', '_i71', '_i72', '_i73', '_i74', '_i75', '_i76', '_i77', '_i78', '_i79', '_i8', '_i80', '_i81', '_i82', '_i83', '_i84', '_i85', '_i86', '_i87', '_i88', '_i89', '_i9', '_i90', '_i91', '_i92', '_i93', '_i94', '_i95', '_i96', '_i97', '_i98', '_i99', '_ih', '_ii', '_iii', '_oh', 'a', 'b', 'c', 'd', 'exit', 'get_ipython', 'm', 'math', 'n', 'quit']\n"
     ]
    }
   ],
   "source": [
    "print(dir())"
   ]
  },
  {
   "cell_type": "code",
   "execution_count": 123,
   "metadata": {},
   "outputs": [
    {
     "name": "stdout",
     "output_type": "stream",
     "text": [
      "['__doc__', '__loader__', '__name__', '__package__', '__spec__', 'acos', 'acosh', 'asin', 'asinh', 'atan', 'atan2', 'atanh', 'ceil', 'copysign', 'cos', 'cosh', 'degrees', 'e', 'erf', 'erfc', 'exp', 'expm1', 'fabs', 'factorial', 'floor', 'fmod', 'frexp', 'fsum', 'gamma', 'gcd', 'hypot', 'inf', 'isclose', 'isfinite', 'isinf', 'isnan', 'ldexp', 'lgamma', 'log', 'log10', 'log1p', 'log2', 'modf', 'nan', 'pi', 'pow', 'radians', 'sin', 'sinh', 'sqrt', 'tan', 'tanh', 'tau', 'trunc']\n",
      "0.1411200080598672\n"
     ]
    }
   ],
   "source": [
    "import math\n",
    "print(dir(math))\n",
    "\n",
    "#print(sin(3))  # Error\n",
    "print(math.sin(3))"
   ]
  },
  {
   "cell_type": "markdown",
   "metadata": {},
   "source": [
    "### 11.2 Type <a class=\"anchor\" id=\"type\"></a>\n",
    "[Back to Table of contents](#toc)\n",
    "\n",
    "With one argument, return the type of an object. The return value is a type object and generally the same object as returned by `object.__class__`."
   ]
  },
  {
   "cell_type": "code",
   "execution_count": 140,
   "metadata": {},
   "outputs": [
    {
     "name": "stdout",
     "output_type": "stream",
     "text": [
      "<class 'type'>\n",
      "<class 'int'>\n"
     ]
    }
   ],
   "source": [
    "print(type(int))\n",
    "print(type(int()))"
   ]
  },
  {
   "cell_type": "markdown",
   "metadata": {},
   "source": [
    "## 12. Modules and packages <a class=\"anchor\" id=\"modules\"></a>\n",
    "[Back to Table of contents](#toc)"
   ]
  },
  {
   "cell_type": "markdown",
   "metadata": {},
   "source": [
    "### 12.1 Regular Expressions <a class=\"anchor\" id=\"regex\"></a>\n",
    "[Back to Table of contents](#toc)"
   ]
  },
  {
   "cell_type": "code",
   "execution_count": 25,
   "metadata": {},
   "outputs": [
    {
     "name": "stdout",
     "output_type": "stream",
     "text": [
      "The 7 DEADLY SINS, also known as the capital vices or \"cardinal\" sins.\n",
      "he 7  , also known as the capital vices or \"cardinal\" sins.\n",
      "T  DEADLY SINS,        \"\" .\n",
      "he7alsoknownasthecapitalvicesorcardinalsins\n",
      "Empty string ->             \n",
      "Only numbers -> 7\n"
     ]
    }
   ],
   "source": [
    "import re\n",
    "\n",
    "string = 'The 7 DEADLY SINS, also known as the capital vices or \"cardinal\" sins.'\n",
    "print(string)\n",
    "print(re.sub('[A-Z]', '', string))\n",
    "print(re.sub('[a-z0-9]', '', string))\n",
    "print(re.sub('[,.A-Z\" \"]', '', string))\n",
    "print('Empty string ->', re.sub('[.,\"A-Za-z0-9]', '', string))\n",
    "print('Only numbers ->', re.sub('[^0-9]', '', string))"
   ]
  },
  {
   "cell_type": "markdown",
   "metadata": {},
   "source": [
    "### 12.2 System <a class=\"anchor\" id=\"system\"></a>\n",
    "[Back to Table of contents](#toc)"
   ]
  },
  {
   "cell_type": "code",
   "execution_count": 30,
   "metadata": {},
   "outputs": [
    {
     "name": "stdout",
     "output_type": "stream",
     "text": [
      "['__add__', '__class__', '__contains__', '__delattr__', '__delitem__', '__dir__', '__doc__', '__eq__', '__format__', '__ge__', '__getattribute__', '__getitem__', '__gt__', '__hash__', '__iadd__', '__imul__', '__init__', '__init_subclass__', '__iter__', '__le__', '__len__', '__lt__', '__mul__', '__ne__', '__new__', '__reduce__', '__reduce_ex__', '__repr__', '__reversed__', '__rmul__', '__setattr__', '__setitem__', '__sizeof__', '__str__', '__subclasshook__', 'append', 'clear', 'copy', 'count', 'extend', 'index', 'insert', 'pop', 'remove', 'reverse', 'sort']\n",
      "\n",
      "INSTALLED PYTHON:\n",
      "3.7.2 (tags/v3.7.2:9a3ffc0492, Dec 23 2018, 22:20:52) [MSC v.1916 32 bit (Intel)]\n",
      "sys.version_info(major=3, minor=7, micro=2, releaselevel='final', serial=0)\n"
     ]
    }
   ],
   "source": [
    "import sys\n",
    "print(dir(sys.path))\n",
    "print('\\nINSTALLED PYTHON:\\n{}\\n{}'.format(sys.version, sys.version_info))"
   ]
  },
  {
   "cell_type": "markdown",
   "metadata": {},
   "source": [
    "### 12.3 Date & Time <a class=\"anchor\" id=\"datetime\"></a>\n",
    "[Back to Table of contents](#toc)\n",
    "\n",
    "More info:<br>\n",
    "https://dateutil.readthedocs.io/en/stable/<br>\n",
    "http://labix.org/python-dateutil"
   ]
  },
  {
   "cell_type": "code",
   "execution_count": 8,
   "metadata": {},
   "outputs": [
    {
     "name": "stdout",
     "output_type": "stream",
     "text": [
      "TIME\n",
      " ['_STRUCT_TM_ITEMS', '__doc__', '__loader__', '__name__', '__package__', '__spec__', 'altzone', 'asctime', 'clock', 'ctime', 'daylight', 'get_clock_info', 'gmtime', 'localtime', 'mktime', 'monotonic', 'perf_counter', 'process_time', 'sleep', 'strftime', 'strptime', 'struct_time', 'time', 'timezone', 'tzname']\n",
      "TIMEIT\n",
      " ['Timer', '__all__', '__builtins__', '__cached__', '__doc__', '__file__', '__loader__', '__name__', '__package__', '__spec__', '_globals', 'default_number', 'default_repeat', 'default_timer', 'dummy_src_name', 'gc', 'itertools', 'main', 'reindent', 'repeat', 'sys', 'template', 'time', 'timeit']\n"
     ]
    }
   ],
   "source": [
    "import time\n",
    "import timeit\n",
    "\n",
    "print(\"TIME\\n\", dir(time))\n",
    "print(\"TIMEIT\\n\", dir(timeit))"
   ]
  },
  {
   "cell_type": "code",
   "execution_count": 9,
   "metadata": {
    "scrolled": true
   },
   "outputs": [
    {
     "name": "stdout",
     "output_type": "stream",
     "text": [
      "DATETIME\n",
      " ['MAXYEAR', 'MINYEAR', '__builtins__', '__cached__', '__doc__', '__file__', '__loader__', '__name__', '__package__', '__spec__', 'date', 'datetime', 'datetime_CAPI', 'time', 'timedelta', 'timezone', 'tzinfo']\n",
      "DATETIME.DATE\n",
      " ['__add__', '__class__', '__delattr__', '__dir__', '__doc__', '__eq__', '__format__', '__ge__', '__getattribute__', '__gt__', '__hash__', '__init__', '__init_subclass__', '__le__', '__lt__', '__ne__', '__new__', '__radd__', '__reduce__', '__reduce_ex__', '__repr__', '__rsub__', '__setattr__', '__sizeof__', '__str__', '__sub__', '__subclasshook__', 'ctime', 'day', 'fromordinal', 'fromtimestamp', 'isocalendar', 'isoformat', 'isoweekday', 'max', 'min', 'month', 'replace', 'resolution', 'strftime', 'timetuple', 'today', 'toordinal', 'weekday', 'year']\n"
     ]
    }
   ],
   "source": [
    "import datetime\n",
    "\n",
    "print(\"DATETIME\\n\", dir(datetime))\n",
    "print(\"DATETIME.DATE\\n\", dir(datetime.date))"
   ]
  },
  {
   "cell_type": "code",
   "execution_count": 10,
   "metadata": {},
   "outputs": [
    {
     "name": "stdout",
     "output_type": "stream",
     "text": [
      "Today (date): 2018-07-12\n",
      "Today (datetime): 2018-07-12 11:34:30.300330\n",
      "Now: 2018-07-12 11:34:30.300330\n",
      "<class 'datetime.datetime'>\n",
      "Day: 12 Month: 7 Year: 2018\n",
      "Weekday: 3\n",
      "Timetuple: time.struct_time(tm_year=2018, tm_mon=7, tm_mday=12, tm_hour=0, tm_min=0, tm_sec=0, tm_wday=3, tm_yday=193, tm_isdst=-1)\n",
      "Time UTC: 2018-07-12 09:34:30.301331\n"
     ]
    }
   ],
   "source": [
    "print(\"Today (date):\", datetime.date.today())\n",
    "print(\"Today (datetime):\", datetime.datetime.today())\n",
    "print(\"Now:\", datetime.datetime.now())\n",
    "print(type(datetime.datetime.now()))\n",
    "\n",
    "today = datetime.date.today()\n",
    "print(\"Day:\", today.day, \"Month:\", today.month, \"Year:\", today.year)\n",
    "\n",
    "print(\"Weekday:\", datetime.date.weekday(today))\n",
    "print(\"Timetuple:\", datetime.date.timetuple(today))\n",
    "print(\"Time UTC:\", datetime.datetime.utcnow())"
   ]
  },
  {
   "cell_type": "markdown",
   "metadata": {},
   "source": [
    "#### Date to string"
   ]
  },
  {
   "cell_type": "markdown",
   "metadata": {},
   "source": [
    "<code>%Y\tYear with century as a decimal number. \n",
    "%m\tMonth as a zero-padded decimal number.\n",
    "%d\tDay of the month as a zero-padded decimal number. <br>\n",
    "%H\tHour (24-hour clock) as a zero-padded decimal number.\n",
    "%M\tMinute as a zero-padded decimal number.\n",
    "%S\tSecond as a zero-padded decimal number.\n",
    "%f\tMicrosecond as a decimal number, zero-padded on the left.<br>\n",
    "%j\tDay of the year as a zero-padded decimal number.</code>\n",
    "\n",
    "Complete reference: https://docs.python.org/3/library/datetime.html#strftime-strptime-behavior"
   ]
  },
  {
   "cell_type": "code",
   "execution_count": 127,
   "metadata": {},
   "outputs": [
    {
     "name": "stdout",
     "output_type": "stream",
     "text": [
      "2017-07-25 20:36:08.687905\n",
      "2017/07/25 20:36:08.687905 \n",
      "2017/07/25 20:36:08.687905 \n"
     ]
    }
   ],
   "source": [
    "today = datetime.datetime.today()\n",
    "print(today) # <class 'datetime.datetime'>\n",
    "print(today.strftime(\"%Y/%m/%d %H:%M:%S.%f %Z\")) # <class 'str'>\n",
    "print(\"{:%Y/%m/%d %H:%M:%S.%f %Z}\".format(today))"
   ]
  },
  {
   "cell_type": "markdown",
   "metadata": {},
   "source": [
    "#### String to date"
   ]
  },
  {
   "cell_type": "code",
   "execution_count": 67,
   "metadata": {},
   "outputs": [
    {
     "name": "stdout",
     "output_type": "stream",
     "text": [
      "time.struct_time(tm_year=2017, tm_mon=5, tm_mday=20, tm_hour=14, tm_min=22, tm_sec=10, tm_wday=5, tm_yday=140, tm_isdst=-1)\n",
      "2017-05-20 14:22:10\n",
      "None\n"
     ]
    }
   ],
   "source": [
    "import time\n",
    "custom_time = time.strptime(\"20 05 2017  14:22:10\", \"%d %m %Y  %H:%M:%S\")\n",
    "custom_datetime = datetime.datetime.strptime(\"20 05 2017  14:22:10\", \"%d %m %Y  %H:%M:%S\")\n",
    "\n",
    "print(custom_time)\n",
    "print(custom_datetime)\n",
    "\n",
    "print(custom_datetime.tzname()) # Not defined\n",
    "\n",
    "# 'Europe/Prague'\n",
    "# >>> t.strftime(\"%H:%M:%S %Z\")\n",
    "# '12:10:30 Europe/Prague'"
   ]
  },
  {
   "cell_type": "markdown",
   "metadata": {},
   "source": [
    "#### Calculation with dates"
   ]
  },
  {
   "cell_type": "code",
   "execution_count": 174,
   "metadata": {
    "scrolled": true
   },
   "outputs": [
    {
     "name": "stdout",
     "output_type": "stream",
     "text": [
      "10 days, 0:00:00\n",
      "2017-07-24 23:24:20.536502\n",
      "2017-07-14 23:24:20.536502\n",
      "53 days, 9:31:09\n",
      "53 days of difference\n",
      "4613469.0 seconds of difference\n"
     ]
    }
   ],
   "source": [
    "print(datetime.timedelta(days=10)) # <class 'datetime.timedelta'>\n",
    "\n",
    "print(datetime.datetime.today())\n",
    "print(datetime.datetime.today() - datetime.timedelta(days=10))\n",
    "\n",
    "date_1 = datetime.datetime.strptime(\"20 05 2017  14:22:10\", \"%d %m %Y  %H:%M:%S\")\n",
    "date_2 = datetime.datetime.strptime(\"12 07 2017  23:53:19\", \"%d %m %Y  %H:%M:%S\")\n",
    "delta_dates = date_2 - date_1\n",
    "print(delta_dates)\n",
    "print(delta_dates.days, \"days of difference\")\n",
    "print(delta_dates.total_seconds(), \"seconds of difference\")\n",
    "\n",
    "# print(dir(delta_dates))"
   ]
  },
  {
   "cell_type": "markdown",
   "metadata": {},
   "source": [
    "### 12.4 Locale <a class=\"anchor\" id=\"locale\"></a>\n",
    "[Back to Table of contents](#toc)\n",
    "\n",
    "http://babel.pocoo.org/en/latest/"
   ]
  }
 ],
 "metadata": {
  "kernelspec": {
   "display_name": "Python 3",
   "language": "python",
   "name": "python3"
  },
  "language_info": {
   "codemirror_mode": {
    "name": "ipython",
    "version": 3
   },
   "file_extension": ".py",
   "mimetype": "text/x-python",
   "name": "python",
   "nbconvert_exporter": "python",
   "pygments_lexer": "ipython3",
   "version": "3.7.2"
  }
 },
 "nbformat": 4,
 "nbformat_minor": 2
}
